{
 "cells": [
  {
   "cell_type": "markdown",
   "id": "d996a830",
   "metadata": {},
   "source": [
    "## Agentic API 101\n",
    "\n",
    "This document talks about the Agentic APIs in Llama Stack. Before you begin, please ensure Llama Stack is installed and set up by following the [Getting Started Guide](https://llama-stack.readthedocs.io/en/latest/getting_started/index.html).\n",
    "\n",
    "Starting Llama 3.1 you can build agentic applications capable of:\n",
    "\n",
    "- breaking a task down and performing multi-step reasoning.\n",
    "- using tools to perform some actions\n",
    "  - built-in: the model has built-in knowledge of tools like search or code interpreter\n",
    "  - zero-shot: the model can learn to call tools using previously unseen, in-context tool definitions\n",
    "- providing system level safety protections using models like Llama Guard.\n",
    "\n",
    "An agentic app requires a few components:\n",
    "- ability to run inference on the underlying Llama series of models\n",
    "- ability to run safety checks using the Llama Guard series of models\n",
    "- ability to execute tools, including a code execution environment, and loop using the model's multi-step reasoning process\n",
    "\n",
    "All of these components are now offered by a single Llama Stack Distribution. Llama Stack defines and standardizes these components and many others that are needed to make building Generative AI applications smoother. Various implementations of these APIs are then assembled together via a **Llama Stack Distribution**.\n",
    "\n"
   ]
  },
  {
   "cell_type": "markdown",
   "id": "96023244",
   "metadata": {},
   "source": [
    "### Run Agent example\n",
    "\n",
    "Please check out examples with client SDKs to talk with the Llama Stack server in our [llama-stack-apps](https://github.com/meta-llama/llama-stack-apps) repo. \n",
    "\n",
    "In this tutorial, with the `Llama3.1-8B-Instruct` server running, we can use the following code to run a simple agent example:"
   ]
  },
  {
   "cell_type": "markdown",
   "id": "cd954c61",
   "metadata": {},
   "source": [
    "Set up your connection parameters:"
   ]
  },
  {
   "cell_type": "code",
   "execution_count": 1,
   "id": "90ed6497",
   "metadata": {},
   "outputs": [],
   "source": [
    "HOST = \"localhost\"  # Replace with your host\n",
    "PORT = 8321  # Replace with your port\n",
    "# MODEL_NAME = \"meta-llama/Llama-3.2-3B-Instruct\"\n",
    "MODEL_NAME=\"deepseek-ai/DeepSeek-R1-Distill-Qwen-14B\"\n"
   ]
  },
  {
   "cell_type": "code",
   "execution_count": 2,
   "id": "5b867ba0",
   "metadata": {},
   "outputs": [],
   "source": [
    "import os\n",
    "\n",
    "from dotenv import load_dotenv\n",
    "\n",
    "# load_dotenv()\n",
    "# BRAVE_SEARCH_API_KEY = os.environ[\"BRAVE_SEARCH_API_KEY\"]\n"
   ]
  },
  {
   "cell_type": "code",
   "execution_count": 3,
   "id": "67dccdf6",
   "metadata": {},
   "outputs": [
    {
     "ename": "NameError",
     "evalue": "name 'BRAVE_SEARCH_API_KEY' is not defined",
     "output_type": "error",
     "traceback": [
      "\u001b[0;31m---------------------------------------------------------------------------\u001b[0m",
      "\u001b[0;31mNameError\u001b[0m                                 Traceback (most recent call last)",
      "Cell \u001b[0;32mIn[3], line 50\u001b[0m\n\u001b[1;32m     46\u001b[0m         \u001b[38;5;28;01masync\u001b[39;00m \u001b[38;5;28;01mfor\u001b[39;00m log \u001b[38;5;129;01min\u001b[39;00m EventLogger()\u001b[38;5;241m.\u001b[39mlog(response):\n\u001b[1;32m     47\u001b[0m             log\u001b[38;5;241m.\u001b[39mprint()\n\u001b[0;32m---> 50\u001b[0m \u001b[38;5;28;01mawait\u001b[39;00m agent_example()\n",
      "Cell \u001b[0;32mIn[3], line 23\u001b[0m, in \u001b[0;36magent_example\u001b[0;34m()\u001b[0m\n\u001b[1;32m      8\u001b[0m \u001b[38;5;28;01masync\u001b[39;00m \u001b[38;5;28;01mdef\u001b[39;00m\u001b[38;5;250m \u001b[39m\u001b[38;5;21magent_example\u001b[39m():\n\u001b[1;32m      9\u001b[0m     client \u001b[38;5;241m=\u001b[39m LlamaStackClient(base_url\u001b[38;5;241m=\u001b[39m\u001b[38;5;124mf\u001b[39m\u001b[38;5;124m\"\u001b[39m\u001b[38;5;124mhttp://\u001b[39m\u001b[38;5;132;01m{\u001b[39;00mHOST\u001b[38;5;132;01m}\u001b[39;00m\u001b[38;5;124m:\u001b[39m\u001b[38;5;132;01m{\u001b[39;00mPORT\u001b[38;5;132;01m}\u001b[39;00m\u001b[38;5;124m\"\u001b[39m)\n\u001b[1;32m     10\u001b[0m     agent \u001b[38;5;241m=\u001b[39m Agent(\n\u001b[1;32m     11\u001b[0m         client,\n\u001b[1;32m     12\u001b[0m         model\u001b[38;5;241m=\u001b[39mMODEL_NAME,\n\u001b[1;32m     13\u001b[0m         instructions\u001b[38;5;241m=\u001b[39m\u001b[38;5;124m\"\u001b[39m\u001b[38;5;124mYou are a helpful assistant! If you call builtin tools like brave search, follow the syntax brave_search.call(…)\u001b[39m\u001b[38;5;124m\"\u001b[39m,\n\u001b[1;32m     14\u001b[0m         sampling_params\u001b[38;5;241m=\u001b[39m{\n\u001b[1;32m     15\u001b[0m             \u001b[38;5;124m\"\u001b[39m\u001b[38;5;124mstrategy\u001b[39m\u001b[38;5;124m\"\u001b[39m: {\n\u001b[1;32m     16\u001b[0m                 \u001b[38;5;124m\"\u001b[39m\u001b[38;5;124mtype\u001b[39m\u001b[38;5;124m\"\u001b[39m: \u001b[38;5;124m\"\u001b[39m\u001b[38;5;124mgreedy\u001b[39m\u001b[38;5;124m\"\u001b[39m,\n\u001b[1;32m     17\u001b[0m             },\n\u001b[1;32m     18\u001b[0m         },\n\u001b[1;32m     19\u001b[0m         tools\u001b[38;5;241m=\u001b[39m[\n\u001b[1;32m     20\u001b[0m             {\n\u001b[1;32m     21\u001b[0m                 \u001b[38;5;124m\"\u001b[39m\u001b[38;5;124mtype\u001b[39m\u001b[38;5;124m\"\u001b[39m: \u001b[38;5;124m\"\u001b[39m\u001b[38;5;124mbrave_search\u001b[39m\u001b[38;5;124m\"\u001b[39m,\n\u001b[1;32m     22\u001b[0m                 \u001b[38;5;124m\"\u001b[39m\u001b[38;5;124mengine\u001b[39m\u001b[38;5;124m\"\u001b[39m: \u001b[38;5;124m\"\u001b[39m\u001b[38;5;124mbrave\u001b[39m\u001b[38;5;124m\"\u001b[39m,\n\u001b[0;32m---> 23\u001b[0m                 \u001b[38;5;124m\"\u001b[39m\u001b[38;5;124mapi_key\u001b[39m\u001b[38;5;124m\"\u001b[39m: \u001b[43mBRAVE_SEARCH_API_KEY\u001b[49m,\n\u001b[1;32m     24\u001b[0m             }\n\u001b[1;32m     25\u001b[0m         ],\n\u001b[1;32m     26\u001b[0m     )\n\u001b[1;32m     27\u001b[0m     session_id \u001b[38;5;241m=\u001b[39m agent\u001b[38;5;241m.\u001b[39mcreate_session(\u001b[38;5;124m\"\u001b[39m\u001b[38;5;124mtest-session\u001b[39m\u001b[38;5;124m\"\u001b[39m)\n\u001b[1;32m     28\u001b[0m     \u001b[38;5;28mprint\u001b[39m(\u001b[38;5;124mf\u001b[39m\u001b[38;5;124m\"\u001b[39m\u001b[38;5;124mCreated session_id=\u001b[39m\u001b[38;5;132;01m{\u001b[39;00msession_id\u001b[38;5;132;01m}\u001b[39;00m\u001b[38;5;124m for Agent(\u001b[39m\u001b[38;5;132;01m{\u001b[39;00magent\u001b[38;5;241m.\u001b[39magent_id\u001b[38;5;132;01m}\u001b[39;00m\u001b[38;5;124m)\u001b[39m\u001b[38;5;124m\"\u001b[39m)\n",
      "\u001b[0;31mNameError\u001b[0m: name 'BRAVE_SEARCH_API_KEY' is not defined"
     ]
    }
   ],
   "source": [
    "import os\n",
    "\n",
    "from llama_stack_client import LlamaStackClient\n",
    "from llama_stack_client.lib.agents.agent import Agent\n",
    "from llama_stack_client.lib.agents.event_logger import EventLogger\n",
    "\n",
    "\n",
    "async def agent_example():\n",
    "    client = LlamaStackClient(base_url=f\"http://{HOST}:{PORT}\")\n",
    "    agent = Agent(\n",
    "        client,\n",
    "        model=MODEL_NAME,\n",
    "        instructions=\"You are a helpful assistant! If you call builtin tools like brave search, follow the syntax brave_search.call(…)\",\n",
    "        sampling_params={\n",
    "            \"strategy\": {\n",
    "                \"type\": \"greedy\",\n",
    "            },\n",
    "        },\n",
    "        tools=[\n",
    "            {\n",
    "                \"type\": \"brave_search\",\n",
    "                \"engine\": \"brave\",\n",
    "                \"api_key\": BRAVE_SEARCH_API_KEY,\n",
    "            }\n",
    "        ],\n",
    "    )\n",
    "    session_id = agent.create_session(\"test-session\")\n",
    "    print(f\"Created session_id={session_id} for Agent({agent.agent_id})\")\n",
    "\n",
    "    user_prompts = [\n",
    "        \"I am planning a trip to Switzerland, what are the top 3 places to visit?\",\n",
    "        \"What is so special about #1?\",\n",
    "    ]\n",
    "\n",
    "    for prompt in user_prompts:\n",
    "        response = agent.create_turn(\n",
    "            messages=[\n",
    "                {\n",
    "                    \"role\": \"user\",\n",
    "                    \"content\": prompt,\n",
    "                }\n",
    "            ],\n",
    "            session_id=session_id,\n",
    "        )\n",
    "\n",
    "        async for log in EventLogger().log(response):\n",
    "            log.print()\n",
    "\n",
    "\n",
    "await agent_example()\n"
   ]
  },
  {
   "cell_type": "markdown",
   "id": "b427f99b",
   "metadata": {},
   "source": [
    "We have come a long way from getting started to understanding the internals of Llama-Stack! \n",
    "\n",
    "Thanks for joining us on this journey. If you have questions-please feel free to open an issue. Looking forward to what you build with Open Source AI!"
   ]
  }
 ],
 "metadata": {
  "fileHeader": "",
  "fileUid": "8de24775-c4a0-49c7-904e-608264f69292",
  "isAdHoc": false,
  "kernelspec": {
   "display_name": "Python 3.11",
   "language": "python",
   "name": "python3"
  },
  "language_info": {
   "codemirror_mode": {
    "name": "ipython",
    "version": 3
   },
   "file_extension": ".py",
   "mimetype": "text/x-python",
   "name": "python",
   "nbconvert_exporter": "python",
   "pygments_lexer": "ipython3",
   "version": "3.11.9"
  }
 },
 "nbformat": 4,
 "nbformat_minor": 5
}
